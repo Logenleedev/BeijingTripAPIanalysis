{
  "nbformat": 4,
  "nbformat_minor": 0,
  "metadata": {
    "colab": {
      "name": "Trip Analysis Baidu",
      "version": "0.3.2",
      "provenance": [],
      "collapsed_sections": []
    },
    "kernelspec": {
      "name": "python3",
      "display_name": "Python 3"
    }
  },
  "cells": [
    {
      "cell_type": "code",
      "metadata": {
        "id": "ZO8FFgaz1pAx",
        "colab_type": "code",
        "colab": {}
      },
      "source": [
        "import requests\n",
        "import json\n",
        "import numpy as np\n",
        "import pandas as pd\n",
        "import matplotlib.pyplot as plt\n",
        "import seaborn as sns"
      ],
      "execution_count": 0,
      "outputs": []
    },
    {
      "cell_type": "code",
      "metadata": {
        "id": "daWIuh9017Y_",
        "colab_type": "code",
        "colab": {}
      },
      "source": [
        "url = \"http://api.map.baidu.com/place/v2/search?query=旅游景点&tag=旅游景点&region=北京&output=json&scope=2&filter=industry_type:total_score&ak=g5jImoGYmTCbCMWb3rKvhwtHzZfHHhKW\""
      ],
      "execution_count": 0,
      "outputs": []
    },
    {
      "cell_type": "code",
      "metadata": {
        "id": "46jYwDbL2c4f",
        "colab_type": "code",
        "outputId": "e23e2762-aec3-4950-c890-4c4bc73f9797",
        "colab": {
          "base_uri": "https://localhost:8080/",
          "height": 94
        }
      },
      "source": [
        "response = requests.get(url)\n",
        "Json_response = response.json()\n",
        "print(Json_response)\n",
        "\n"
      ],
      "execution_count": 0,
      "outputs": [
        {
          "output_type": "stream",
          "text": [
            "{'status': 0, 'message': 'ok', 'results': [{'name': '天坛公园', 'location': {'lat': 39.888243, 'lng': 116.417246}, 'address': '北京市东城区天坛东里甲1号', 'province': '北京市', 'city': '北京市', 'area': '东城区', 'street_id': '45ef9a2b5508cbfda2d230e6', 'telephone': '(010)67028866', 'detail': 1, 'uid': '45ef9a2b5508cbfda2d230e6', 'detail_info': {'tag': '旅游景点;公园', 'navi_location': {'lng': 116.42714003869, 'lat': 39.890067639808}, 'type': 'scope', 'detail_url': 'http://api.map.baidu.com/place/detail?uid=45ef9a2b5508cbfda2d230e6&output=html&source=placeapi_v2', 'overall_rating': '4.5', 'comment_num': '100', 'children': []}}, {'name': '故宫博物院', 'location': {'lat': 39.924091, 'lng': 116.403414}, 'address': '北京市东城区景山前街4号', 'province': '北京市', 'city': '北京市', 'area': '东城区', 'street_id': '06d2dffda107b0ef89f15db6', 'telephone': '(010)85007114', 'detail': 1, 'uid': '06d2dffda107b0ef89f15db6', 'detail_info': {'tag': '旅游景点;博物馆', 'navi_location': {'lng': 116.409316, 'lat': 39.921539076517}, 'type': 'scope', 'detail_url': 'http://api.map.baidu.com/place/detail?uid=06d2dffda107b0ef89f15db6&output=html&source=placeapi_v2', 'price': '5', 'overall_rating': '4.5', 'comment_num': '100', 'children': []}}, {'name': '什刹海公园', 'location': {'lat': 39.947583, 'lng': 116.391128}, 'address': '北京市西城区地安门西大街49号', 'province': '北京市', 'city': '北京市', 'area': '西城区', 'street_id': 'c21db9e5111538fe00ff2d32', 'detail': 1, 'uid': 'c21db9e5111538fe00ff2d32', 'detail_info': {'tag': '旅游景点;风景区', 'navi_location': {'lng': 116.398159, 'lat': 39.939838075041}, 'type': 'scope', 'detail_url': 'http://api.map.baidu.com/place/detail?uid=c21db9e5111538fe00ff2d32&output=html&source=placeapi_v2', 'overall_rating': '4.7', 'comment_num': '62', 'children': []}}, {'name': '昭陵', 'location': {'lat': 40.297082, 'lng': 116.224367}, 'address': '北京市昌平区环陵路', 'province': '北京市', 'city': '北京市', 'area': '昌平区', 'street_id': 'f4460918e83f536ab11e367b', 'telephone': '(010)60761435', 'detail': 1, 'uid': 'f4460918e83f536ab11e367b', 'detail_info': {'tag': '旅游景点;文物古迹', 'navi_location': {'lng': 116.22643397688, 'lat': 40.295003847756}, 'type': 'scope', 'detail_url': 'http://api.map.baidu.com/place/detail?uid=f4460918e83f536ab11e367b&output=html&source=placeapi_v2', 'overall_rating': '3.8', 'comment_num': '19', 'children': []}}, {'name': '北京青龙峡风景区', 'location': {'lat': 40.467871, 'lng': 116.689259}, 'address': '北京市怀柔区怀北镇大水峪村北500米', 'province': '北京市', 'city': '北京市', 'area': '怀柔区', 'street_id': 'eac84be756d2ba49d12dd64f', 'telephone': '(010)89696781', 'detail': 1, 'uid': 'eac84be756d2ba49d12dd64f', 'detail_info': {'tag': '旅游景点;风景区', 'navi_location': {'lng': 116.70482610191, 'lat': 40.457882404931}, 'type': 'scope', 'detail_url': 'http://api.map.baidu.com/place/detail?uid=eac84be756d2ba49d12dd64f&output=html&source=placeapi_v2', 'overall_rating': '4.0', 'comment_num': '80', 'children': []}}, {'name': '蟒山国家森林公园', 'location': {'lat': 40.270755, 'lng': 116.299772}, 'address': '蟒山路2号', 'province': '北京市', 'city': '北京市', 'area': '昌平区', 'street_id': '66f0f14202aa37838605bfdb', 'detail': 1, 'uid': '66f0f14202aa37838605bfdb', 'detail_info': {'tag': '旅游景点;风景区', 'navi_location': {'lng': 116.2838578961, 'lat': 40.261644422768}, 'type': 'scope', 'detail_url': 'http://api.map.baidu.com/place/detail?uid=66f0f14202aa37838605bfdb&output=html&source=placeapi_v2', 'overall_rating': '4.0', 'comment_num': '55', 'children': []}}, {'name': '京东石林峡景区', 'location': {'lat': 40.268794, 'lng': 117.24851}, 'address': '北京市平谷区黄松峪乡雕窝村73号', 'province': '北京市', 'city': '北京市', 'area': '平谷区', 'street_id': 'ef8195229cd670868bdb7311', 'telephone': '(010)60987678', 'detail': 1, 'uid': 'ef8195229cd670868bdb7311', 'detail_info': {'tag': '旅游景点;风景区', 'navi_location': {'lng': 117.2563377317, 'lat': 40.265788376812}, 'type': 'scope', 'detail_url': 'http://api.map.baidu.com/place/detail?uid=ef8195229cd670868bdb7311&output=html&source=placeapi_v2', 'overall_rating': '3.8', 'comment_num': '77', 'children': []}}, {'name': '百里山水画廊', 'location': {'lat': 40.70653, 'lng': 116.326242}, 'address': '千家店镇东店村153号', 'province': '北京市', 'city': '北京市', 'area': '延庆区', 'telephone': '(010)60188559', 'detail': 1, 'uid': '5fa7fcd0c086e8d67069d3d6', 'detail_info': {'tag': '旅游景点;风景区', 'navi_location': {'lng': 116.25648399668, 'lat': 40.666674400288}, 'type': 'scope', 'detail_url': 'http://api.map.baidu.com/place/detail?uid=5fa7fcd0c086e8d67069d3d6&output=html&source=placeapi_v2', 'overall_rating': '4.4', 'comment_num': '57', 'children': []}}, {'name': '密云水库', 'location': {'lat': 40.523288, 'lng': 116.920432}, 'address': '北京市密云区', 'province': '北京市', 'city': '北京市', 'area': '密云区', 'street_id': '988a4c46ce45f7758b2fb579', 'detail': 1, 'uid': '988a4c46ce45f7758b2fb579', 'detail_info': {'tag': '旅游景点;风景区', 'navi_location': {'lng': 116.843503, 'lat': 40.481967019858}, 'type': 'scope', 'detail_url': 'http://api.map.baidu.com/place/detail?uid=988a4c46ce45f7758b2fb579&output=html&source=placeapi_v2', 'overall_rating': '3.1', 'image_num': '1', 'comment_num': '8', 'children': []}}, {'name': '毛主席纪念堂', 'location': {'lat': 39.908892, 'lng': 116.404162}, 'address': '前门东大街11号', 'province': '北京市', 'city': '北京市', 'area': '东城区', 'street_id': '46fb7cadd046b93229fc48f3', 'detail': 1, 'uid': '46fb7cadd046b93229fc48f3', 'detail_info': {'tag': '旅游景点;文物古迹', 'navi_location': {'lng': 116.40235132599, 'lat': 39.909197293737}, 'type': 'scope', 'detail_url': 'http://api.map.baidu.com/place/detail?uid=46fb7cadd046b93229fc48f3&output=html&source=placeapi_v2', 'overall_rating': '4.2', 'comment_num': '100', 'children': []}}]}\n"
          ],
          "name": "stdout"
        }
      ]
    },
    {
      "cell_type": "markdown",
      "metadata": {
        "id": "e-7_ZIoMTLEP",
        "colab_type": "text"
      },
      "source": [
        "## Let us check the length of the result"
      ]
    },
    {
      "cell_type": "code",
      "metadata": {
        "id": "VFocZIu62peB",
        "colab_type": "code",
        "outputId": "f789c00a-ca9d-4982-d654-036447527b42",
        "colab": {
          "base_uri": "https://localhost:8080/",
          "height": 34
        }
      },
      "source": [
        "print(len(Json_response[\"results\"]))\n",
        "len_of_results = len(Json_response[\"results\"])"
      ],
      "execution_count": 0,
      "outputs": [
        {
          "output_type": "stream",
          "text": [
            "10\n"
          ],
          "name": "stdout"
        }
      ]
    },
    {
      "cell_type": "markdown",
      "metadata": {
        "id": "OBthSIvbXa5j",
        "colab_type": "text"
      },
      "source": [
        "## Create \"Place\" Column"
      ]
    },
    {
      "cell_type": "code",
      "metadata": {
        "id": "MH3sDHAVTWBq",
        "colab_type": "code",
        "colab": {}
      },
      "source": [
        "\n",
        "name_of_place = []\n",
        "for n in range(len_of_results):\n",
        "  place_name = Json_response[\"results\"][n][\"name\"]\n",
        "  name_of_place.append(place_name) "
      ],
      "execution_count": 0,
      "outputs": []
    },
    {
      "cell_type": "code",
      "metadata": {
        "id": "u5uk-rlWTrLr",
        "colab_type": "code",
        "outputId": "d987cd86-23d4-480e-e423-58b451b49596",
        "colab": {
          "base_uri": "https://localhost:8080/",
          "height": 34
        }
      },
      "source": [
        "print(name_of_place)"
      ],
      "execution_count": 0,
      "outputs": [
        {
          "output_type": "stream",
          "text": [
            "['天坛公园', '故宫博物院', '什刹海公园', '昭陵', '北京青龙峡风景区', '蟒山国家森林公园', '京东石林峡景区', '百里山水画廊', '密云水库', '毛主席纪念堂']\n"
          ],
          "name": "stdout"
        }
      ]
    },
    {
      "cell_type": "markdown",
      "metadata": {
        "id": "ZzziC5ZPXnWz",
        "colab_type": "text"
      },
      "source": [
        "## Create \"City Column\""
      ]
    },
    {
      "cell_type": "code",
      "metadata": {
        "id": "RVDIQWMrWVMc",
        "colab_type": "code",
        "colab": {}
      },
      "source": [
        "City = []\n",
        "for n in range(len_of_results):\n",
        "  city = Json_response[\"results\"][n][\"city\"]\n",
        "  City.append(city) "
      ],
      "execution_count": 0,
      "outputs": []
    },
    {
      "cell_type": "code",
      "metadata": {
        "id": "EBobxAtsWU4v",
        "colab_type": "code",
        "outputId": "f0aa3c50-b6e6-4d84-b882-2a4ab295f63f",
        "colab": {
          "base_uri": "https://localhost:8080/",
          "height": 34
        }
      },
      "source": [
        "print(City)"
      ],
      "execution_count": 0,
      "outputs": [
        {
          "output_type": "stream",
          "text": [
            "['北京市', '北京市', '北京市', '北京市', '北京市', '北京市', '北京市', '北京市', '北京市', '北京市']\n"
          ],
          "name": "stdout"
        }
      ]
    },
    {
      "cell_type": "markdown",
      "metadata": {
        "id": "RzZuQBzMXrB1",
        "colab_type": "text"
      },
      "source": [
        "## Create \"Area\" Column"
      ]
    },
    {
      "cell_type": "code",
      "metadata": {
        "id": "VtnLeOKLW6hn",
        "colab_type": "code",
        "colab": {}
      },
      "source": [
        "Area = []\n",
        "for n in range(len_of_results):\n",
        "  area = Json_response[\"results\"][n][\"area\"]\n",
        "  Area.append(area) "
      ],
      "execution_count": 0,
      "outputs": []
    },
    {
      "cell_type": "code",
      "metadata": {
        "id": "BPuyRvAzW6FQ",
        "colab_type": "code",
        "outputId": "04d66769-82b6-4ea7-8f0a-1cabf7b4cf97",
        "colab": {
          "base_uri": "https://localhost:8080/",
          "height": 34
        }
      },
      "source": [
        "print(Area)"
      ],
      "execution_count": 0,
      "outputs": [
        {
          "output_type": "stream",
          "text": [
            "['东城区', '东城区', '西城区', '昌平区', '怀柔区', '昌平区', '平谷区', '延庆区', '密云区', '东城区']\n"
          ],
          "name": "stdout"
        }
      ]
    },
    {
      "cell_type": "markdown",
      "metadata": {
        "id": "ovh_pZZiF-qH",
        "colab_type": "text"
      },
      "source": [
        "## Create rating table"
      ]
    },
    {
      "cell_type": "code",
      "metadata": {
        "id": "bh0zhv_QGEWL",
        "colab_type": "code",
        "outputId": "f53dd4ad-1a4d-4e7a-d33d-b34584ecbab1",
        "colab": {
          "base_uri": "https://localhost:8080/",
          "height": 34
        }
      },
      "source": [
        "Rating = []\n",
        "for n in range(len_of_results):\n",
        "  rating = Json_response[\"results\"][n][\"detail_info\"][\"overall_rating\"]\n",
        "  Rating.append(rating) \n",
        "  \n",
        "print(Rating)"
      ],
      "execution_count": 0,
      "outputs": [
        {
          "output_type": "stream",
          "text": [
            "['4.5', '4.5', '4.7', '3.8', '4.0', '4.0', '3.8', '4.4', '3.1', '4.2']\n"
          ],
          "name": "stdout"
        }
      ]
    },
    {
      "cell_type": "markdown",
      "metadata": {
        "id": "h3qLQZDe7x4o",
        "colab_type": "text"
      },
      "source": [
        "## Create latitude tabe"
      ]
    },
    {
      "cell_type": "code",
      "metadata": {
        "id": "VLTaLJhw70xm",
        "colab_type": "code",
        "outputId": "30881ee1-d25f-4dd2-e28c-d671ff09c57e",
        "colab": {
          "base_uri": "https://localhost:8080/",
          "height": 74
        }
      },
      "source": [
        "lat = []\n",
        "for n in range(len_of_results):\n",
        "  latitude = Json_response[\"results\"][n][\"detail_info\"][\"navi_location\"][\"lat\"]\n",
        "  lat.append(latitude) \n",
        "  \n",
        "print(lat)"
      ],
      "execution_count": 0,
      "outputs": [
        {
          "output_type": "stream",
          "text": [
            "[39.890067639808, 39.921539076517, 39.939838075041, 40.295003847756, 40.457882404931, 40.261644422768, 40.265788376812, 40.666674400288, 40.481967019858, 39.909197293737]\n"
          ],
          "name": "stdout"
        }
      ]
    },
    {
      "cell_type": "markdown",
      "metadata": {
        "id": "opeUT1-D8QVS",
        "colab_type": "text"
      },
      "source": [
        "## Create long table"
      ]
    },
    {
      "cell_type": "code",
      "metadata": {
        "id": "8WcUAB4R8Sq3",
        "colab_type": "code",
        "outputId": "d0f8c2dd-2a82-4a13-809f-afdbd0e99ead",
        "colab": {
          "base_uri": "https://localhost:8080/",
          "height": 34
        }
      },
      "source": [
        "long = []\n",
        "for n in range(len_of_results):\n",
        "  longitutde = Json_response[\"results\"][n][\"detail_info\"][\"navi_location\"][\"lng\"]\n",
        "  long.append(longitutde) \n",
        "  \n",
        "print(long)"
      ],
      "execution_count": 0,
      "outputs": [
        {
          "output_type": "stream",
          "text": [
            "[116.42714003869, 116.409316, 116.398159, 116.22643397688, 116.70482610191, 116.2838578961, 117.2563377317, 116.25648399668, 116.843503, 116.40235132599]\n"
          ],
          "name": "stdout"
        }
      ]
    },
    {
      "cell_type": "markdown",
      "metadata": {
        "id": "wS4MJ_vm7vYq",
        "colab_type": "text"
      },
      "source": [
        "## Create Table"
      ]
    },
    {
      "cell_type": "code",
      "metadata": {
        "id": "Jcyqst8GVHuH",
        "colab_type": "code",
        "colab": {}
      },
      "source": [
        "df = pd.DataFrame(\n",
        "{\"Place Name\" : name_of_place,\n",
        "\"City\" : City,\n",
        "\"Area\" : Area,\n",
        "\"Rating\" : Rating,\n",
        "\"Long\" : long,\n",
        "\"lat\" : lat},\n",
        "index = [1, 2, 3, 4, 5, 6, 7, 8, 9, 10])"
      ],
      "execution_count": 0,
      "outputs": []
    },
    {
      "cell_type": "markdown",
      "metadata": {
        "id": "3Jw_u1u9Xwrl",
        "colab_type": "text"
      },
      "source": [
        "## Check it out Table result!"
      ]
    },
    {
      "cell_type": "code",
      "metadata": {
        "id": "T1eixzaKValo",
        "colab_type": "code",
        "outputId": "c8cefda5-cea8-4f55-989a-57214c7e523f",
        "colab": {
          "base_uri": "https://localhost:8080/",
          "height": 204
        }
      },
      "source": [
        "print(df)"
      ],
      "execution_count": 0,
      "outputs": [
        {
          "output_type": "stream",
          "text": [
            "   Place Name City Area Rating        Long        lat\n",
            "1        天坛公园  北京市  东城区    4.5  116.427140  39.890068\n",
            "2       故宫博物院  北京市  东城区    4.5  116.409316  39.921539\n",
            "3       什刹海公园  北京市  西城区    4.7  116.398159  39.939838\n",
            "4          昭陵  北京市  昌平区    3.8  116.226434  40.295004\n",
            "5    北京青龙峡风景区  北京市  怀柔区    4.0  116.704826  40.457882\n",
            "6    蟒山国家森林公园  北京市  昌平区    4.0  116.283858  40.261644\n",
            "7     京东石林峡景区  北京市  平谷区    3.8  117.256338  40.265788\n",
            "8      百里山水画廊  北京市  延庆区    4.4  116.256484  40.666674\n",
            "9        密云水库  北京市  密云区    3.1  116.843503  40.481967\n",
            "10     毛主席纪念堂  北京市  东城区    4.2  116.402351  39.909197\n"
          ],
          "name": "stdout"
        }
      ]
    },
    {
      "cell_type": "markdown",
      "metadata": {
        "id": "VmxD0v3WHiVk",
        "colab_type": "text"
      },
      "source": [
        "## Convert DF to CSV"
      ]
    },
    {
      "cell_type": "code",
      "metadata": {
        "id": "RfrsJhgfHlN2",
        "colab_type": "code",
        "colab": {}
      },
      "source": [
        "df_csv = df.to_csv(\"./data.csv\", encoding = \"gb18030\")\n"
      ],
      "execution_count": 0,
      "outputs": []
    },
    {
      "cell_type": "code",
      "metadata": {
        "id": "fGt-RCyeK4hx",
        "colab_type": "code",
        "outputId": "5cc6dd45-025f-491d-c953-45916c66d53a",
        "colab": {
          "base_uri": "https://localhost:8080/",
          "height": 136
        }
      },
      "source": [
        "df['Rating'] = df['Rating'].astype(float)\n",
        "df.dtypes"
      ],
      "execution_count": 0,
      "outputs": [
        {
          "output_type": "execute_result",
          "data": {
            "text/plain": [
              "Place Name     object\n",
              "City           object\n",
              "Area           object\n",
              "Rating        float64\n",
              "Long          float64\n",
              "lat           float64\n",
              "dtype: object"
            ]
          },
          "metadata": {
            "tags": []
          },
          "execution_count": 17
        }
      ]
    },
    {
      "cell_type": "code",
      "metadata": {
        "id": "pzPXsIZQVl1l",
        "colab_type": "code",
        "colab": {}
      },
      "source": [
        "Name = df[\"Place Name\"]\n",
        "Rating = df[\"Rating\"]\n"
      ],
      "execution_count": 0,
      "outputs": []
    },
    {
      "cell_type": "code",
      "metadata": {
        "id": "a4tQNaX2XVH2",
        "colab_type": "code",
        "outputId": "63bd85d4-412f-441c-e6da-222fcaaf1193",
        "colab": {
          "base_uri": "https://localhost:8080/",
          "height": 1054
        }
      },
      "source": [
        "df[\"Place Name\"][1] = \"TianTan Park\"\n",
        "df[\"Place Name\"][2] = \"GuGong - The forbidden city\"\n",
        "df[\"Place Name\"][3] = \"ShiChaHai Park\"\n",
        "df[\"Place Name\"][4] = \"Zhaolin\"\n",
        "df[\"Place Name\"][5] = \"QingLongXia\"\n",
        "df[\"Place Name\"][6] = \"MangShan\"\n",
        "df[\"Place Name\"][7] = \"ShiLin\"\n",
        "df[\"Place Name\"][8] = \"BaiLiShan Water Gallery\"\n",
        "df[\"Place Name\"][9] = \"MiYun\"\n",
        "df[\"Place Name\"][10] = \"Mao's museum\"\n",
        "print(df)"
      ],
      "execution_count": 0,
      "outputs": [
        {
          "output_type": "stream",
          "text": [
            "/usr/local/lib/python3.6/dist-packages/ipykernel_launcher.py:1: SettingWithCopyWarning: \n",
            "A value is trying to be set on a copy of a slice from a DataFrame\n",
            "\n",
            "See the caveats in the documentation: http://pandas.pydata.org/pandas-docs/stable/indexing.html#indexing-view-versus-copy\n",
            "  \"\"\"Entry point for launching an IPython kernel.\n",
            "/usr/local/lib/python3.6/dist-packages/ipykernel_launcher.py:2: SettingWithCopyWarning: \n",
            "A value is trying to be set on a copy of a slice from a DataFrame\n",
            "\n",
            "See the caveats in the documentation: http://pandas.pydata.org/pandas-docs/stable/indexing.html#indexing-view-versus-copy\n",
            "  \n",
            "/usr/local/lib/python3.6/dist-packages/ipykernel_launcher.py:3: SettingWithCopyWarning: \n",
            "A value is trying to be set on a copy of a slice from a DataFrame\n",
            "\n",
            "See the caveats in the documentation: http://pandas.pydata.org/pandas-docs/stable/indexing.html#indexing-view-versus-copy\n",
            "  This is separate from the ipykernel package so we can avoid doing imports until\n",
            "/usr/local/lib/python3.6/dist-packages/ipykernel_launcher.py:4: SettingWithCopyWarning: \n",
            "A value is trying to be set on a copy of a slice from a DataFrame\n",
            "\n",
            "See the caveats in the documentation: http://pandas.pydata.org/pandas-docs/stable/indexing.html#indexing-view-versus-copy\n",
            "  after removing the cwd from sys.path.\n",
            "/usr/local/lib/python3.6/dist-packages/ipykernel_launcher.py:5: SettingWithCopyWarning: \n",
            "A value is trying to be set on a copy of a slice from a DataFrame\n",
            "\n",
            "See the caveats in the documentation: http://pandas.pydata.org/pandas-docs/stable/indexing.html#indexing-view-versus-copy\n",
            "  \"\"\"\n",
            "/usr/local/lib/python3.6/dist-packages/ipykernel_launcher.py:6: SettingWithCopyWarning: \n",
            "A value is trying to be set on a copy of a slice from a DataFrame\n",
            "\n",
            "See the caveats in the documentation: http://pandas.pydata.org/pandas-docs/stable/indexing.html#indexing-view-versus-copy\n",
            "  \n"
          ],
          "name": "stderr"
        },
        {
          "output_type": "stream",
          "text": [
            "                     Place Name City Area  Rating        Long        lat\n",
            "1                  TianTan Park  北京市  东城区     4.5  116.427140  39.890068\n",
            "2   GuGong - The forbidden city  北京市  东城区     4.5  116.409316  39.921539\n",
            "3                ShiChaHai Park  北京市  西城区     4.7  116.398159  39.939838\n",
            "4                       Zhaolin  北京市  昌平区     3.8  116.226434  40.295004\n",
            "5                   QingLongXia  北京市  怀柔区     4.0  116.704826  40.457882\n",
            "6                      MangShan  北京市  昌平区     4.0  116.283858  40.261644\n",
            "7                        ShiLin  北京市  平谷区     3.8  117.256338  40.265788\n",
            "8       BaiLiShan Water Gallery  北京市  延庆区     4.4  116.256484  40.666674\n",
            "9                         MiYun  北京市  密云区     3.1  116.843503  40.481967\n",
            "10                 Mao's museum  北京市  东城区     4.2  116.402351  39.909197\n"
          ],
          "name": "stdout"
        },
        {
          "output_type": "stream",
          "text": [
            "/usr/local/lib/python3.6/dist-packages/ipykernel_launcher.py:7: SettingWithCopyWarning: \n",
            "A value is trying to be set on a copy of a slice from a DataFrame\n",
            "\n",
            "See the caveats in the documentation: http://pandas.pydata.org/pandas-docs/stable/indexing.html#indexing-view-versus-copy\n",
            "  import sys\n",
            "/usr/local/lib/python3.6/dist-packages/ipykernel_launcher.py:8: SettingWithCopyWarning: \n",
            "A value is trying to be set on a copy of a slice from a DataFrame\n",
            "\n",
            "See the caveats in the documentation: http://pandas.pydata.org/pandas-docs/stable/indexing.html#indexing-view-versus-copy\n",
            "  \n",
            "/usr/local/lib/python3.6/dist-packages/ipykernel_launcher.py:9: SettingWithCopyWarning: \n",
            "A value is trying to be set on a copy of a slice from a DataFrame\n",
            "\n",
            "See the caveats in the documentation: http://pandas.pydata.org/pandas-docs/stable/indexing.html#indexing-view-versus-copy\n",
            "  if __name__ == '__main__':\n",
            "/usr/local/lib/python3.6/dist-packages/ipykernel_launcher.py:10: SettingWithCopyWarning: \n",
            "A value is trying to be set on a copy of a slice from a DataFrame\n",
            "\n",
            "See the caveats in the documentation: http://pandas.pydata.org/pandas-docs/stable/indexing.html#indexing-view-versus-copy\n",
            "  # Remove the CWD from sys.path while we load stuff.\n"
          ],
          "name": "stderr"
        }
      ]
    },
    {
      "cell_type": "code",
      "metadata": {
        "id": "uej7fajsVvEn",
        "colab_type": "code",
        "outputId": "2391515b-d5bb-4be3-c1a9-8df094f8c3fa",
        "colab": {
          "base_uri": "https://localhost:8080/",
          "height": 695
        }
      },
      "source": [
        "\n",
        "plt.figure(figsize=(20,10)) \n",
        "sns.barplot(x = df[\"Place Name\"], y = df[\"Rating\"])\n",
        "plt.xticks(rotation=330)\n",
        "plt.ylabel(\"Rating\")\n"
      ],
      "execution_count": 0,
      "outputs": [
        {
          "output_type": "execute_result",
          "data": {
            "text/plain": [
              "Text(0, 0.5, 'Rating')"
            ]
          },
          "metadata": {
            "tags": []
          },
          "execution_count": 64
        },
        {
          "output_type": "display_data",
          "data": {
            "image/png": "[encoded data removed]",
            "text/plain": [
              "<Figure size 1440x720 with 1 Axes>"
            ]
          },
          "metadata": {
            "tags": []
          }
        }
      ]
    },
    {
      "cell_type": "markdown",
      "metadata": {
        "id": "taKV9QO28wks",
        "colab_type": "text"
      },
      "source": [
        "# Create Heat Map"
      ]
    },
    {
      "cell_type": "code",
      "metadata": {
        "id": "ZxBtw_bGIjHn",
        "colab_type": "code",
        "outputId": "b73bf6ec-339e-402e-ebe6-0c4db7393b7b",
        "colab": {
          "base_uri": "https://localhost:8080/",
          "height": 840
        }
      },
      "source": [
        "import folium\n",
        "from folium import plugins\n",
        "\n",
        "heatMap = folium.Map(location=[39.9042, 116.4074], zoom_start = 9)\n",
        "heatMap.add_child(plugins.HeatMap([[row[\"lat\"], row[\"Long\"]] for name, row in df.iterrows()]))"
      ],
      "execution_count": 0,
      "outputs": [
        {
          "output_type": "execute_result",
          "data": {
            "text/html": [
              "<div style=\"width:100%;\"><div style=\"position:relative;width:100%;height:0;padding-bottom:60%;\"><iframe src=\"data:text/html;charset=utf-8;base64,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\" style=\"position:absolute;width:100%;height:100%;left:0;top:0;border:none !important;\" allowfullscreen webkitallowfullscreen mozallowfullscreen></iframe></div></div>"
            ],
            "text/plain": [
              "<folium.folium.Map at 0x7f449a7d5860>"
            ]
          },
          "metadata": {
            "tags": []
          },
          "execution_count": 36
        }
      ]
    },
    {
      "cell_type": "code",
      "metadata": {
        "id": "4JHq4vtcT8p_",
        "colab_type": "code",
        "outputId": "2338017b-3282-46ad-d6de-2ab0be1d1ad4",
        "colab": {
          "base_uri": "https://localhost:8080/",
          "height": 34
        }
      },
      "source": [
        "\"\""
      ],
      "execution_count": 0,
      "outputs": [
        {
          "output_type": "execute_result",
          "data": {
            "text/plain": [
              "''"
            ]
          },
          "metadata": {
            "tags": []
          },
          "execution_count": 21
        }
      ]
    }
  ]
}